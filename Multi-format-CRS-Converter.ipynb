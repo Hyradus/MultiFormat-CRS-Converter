{
 "cells": [
  {
   "cell_type": "markdown",
   "metadata": {},
   "source": [
    "## Multiple-format CRS Converter\n",
    "\n",
    "This notebook convert any CRS, if present, of all files with specific extension in a user-selected folder into user-selected CRS.\n",
    "If source file is not availabe, it will be assigned the user-selected CRS.\n",
    "\n",
    "- **All file with extension different from [shp/SHP, tiff/TIFF, tif/tif, gpkg/GPKG] will be ignored**\n",
    "- **At the moment is not recursive**\n",
    "### TO-DO**\n",
    "- [ ] Add recursive search\n",
    "- [ ] Add a function to move all not supported files in the destination path, recustructing the original strucutre of the directories\n",
    "\n",
    "For problems contact: g.nodjoumi@jacobs-university.de"
   ]
  },
  {
   "cell_type": "markdown",
   "metadata": {},
   "source": [
    "Imports"
   ]
  },
  {
   "cell_type": "code",
   "execution_count": null,
   "metadata": {},
   "outputs": [],
   "source": [
    "from argparse import ArgumentParser\n",
    "from tkinter import Tk,filedialog\n",
    "import os\n",
    "from tqdm.notebook import tqdm\n",
    "import itertools\n",
    "import gdal\n",
    "from gdal import Warp\n",
    "import shutil\n",
    "import datetime\n",
    "import geopandas as gpd"
   ]
  },
  {
   "cell_type": "markdown",
   "metadata": {},
   "source": [
    "Utilities functions"
   ]
  },
  {
   "cell_type": "code",
   "execution_count": null,
   "metadata": {},
   "outputs": [],
   "source": [
    "def question(question, answers):\n",
    "    answ = None\n",
    "    while answ not in answers:\n",
    "        print('Please enter only: ')\n",
    "        print(*answers, sep=', ')\n",
    "        \n",
    "        answ = input(question+'Answer: ')\n",
    "    return(answ)\n",
    "\n",
    "def make_folder(path, name):\n",
    "    #os.getcwd()\n",
    "    folder = path+'/'+name\n",
    "    if os.path.exists(folder):\n",
    "           qst = name + ' Folder exist, remove it? '\n",
    "           answ = question(qst,['yes','y','no','n'])\n",
    "           if answ in ['yes', 'y']:\n",
    "               shutil.rmtree(folder)\n",
    "               os.mkdir(folder)\n",
    "               print(name, 'Folder created')\n",
    "           else:\n",
    "               now = datetime.now()\n",
    "               folder = path+'/'+name +'_' + now.strftime(\"%d%m%Y_%H%M%S\")\n",
    "               print(folder, ' Folder not exist, creating.')\n",
    "               os.mkdir(folder)\n",
    "               print('Created new ', name,' Folder')\n",
    "    else:\n",
    "        print(name, ' Folder not exist, creating.')\n",
    "        os.mkdir(folder)\n",
    "        print('Created new ', name,' Folder')\n",
    "    return(folder)\n",
    "\n",
    "def get_paths(PATH, ixt):\n",
    "    import re\n",
    "    import fnmatch\n",
    "    os.chdir(PATH)\n",
    "    files = []\n",
    "    for ix in ixt:\n",
    "        ext='*.'+ix\n",
    "        chkCase = re.compile(fnmatch.translate(ext), re.IGNORECASE)\n",
    "        files.extend([f for f in os.listdir(PATH) if chkCase.match(f)])\n",
    "        \n",
    "    return(files)"
   ]
  },
  {
   "cell_type": "markdown",
   "metadata": {},
   "source": [
    "Converter core function"
   ]
  },
  {
   "cell_type": "code",
   "execution_count": null,
   "metadata": {},
   "outputs": [],
   "source": [
    "def converter(file, OUT_CRS):\n",
    "    \n",
    "    xt = file.split('.')[1]\n",
    "    name = os.path.basename(file)\n",
    "    outfile = DST_PATH+'/'+xt+'/'+ name\n",
    "    if xt in['shp','SHP','gpkg','GPKG']:\n",
    "        gdf = gpd.read_file(file)\n",
    "        src_crs = gdf.crs\n",
    "        try:\n",
    "            gdf = gdf.to_crs(OUT_CRS)\n",
    "        except:\n",
    "            gdf.crs = OUT_CRS\n",
    "        if xt in ['gpkg','GPKG']:\n",
    "            drv = \"GPKG\"\n",
    "        else:\n",
    "            drv = 'ESRI Shapefile'\n",
    "        gdf.to_file(outfile, drv)\n",
    "    else:\n",
    "        openfile = gdal.Open(file)\n",
    "        src_crs = openfile.GetSpatialRef()\n",
    "        Warp(outfile, openfile, srcSRS=src_crs, dstSRS=OUT_CRS)"
   ]
  },
  {
   "cell_type": "markdown",
   "metadata": {},
   "source": [
    "Parallel functions"
   ]
  },
  {
   "cell_type": "code",
   "execution_count": null,
   "metadata": {},
   "outputs": [],
   "source": [
    "def parallel_converter(files, OUT_CRS, JOBS):\n",
    "    from joblib import Parallel, delayed\n",
    "    Parallel (n_jobs=JOBS)(delayed(converter)(files[i], OUT_CRS)\n",
    "                            for i in range(len(files)))\n",
    "    "
   ]
  },
  {
   "cell_type": "code",
   "execution_count": null,
   "metadata": {},
   "outputs": [],
   "source": [
    "def chunk_creator(item_list, chunksize):\n",
    "    it = iter(item_list)\n",
    "    while True:\n",
    "        chunk = tuple(itertools.islice(it, chunksize))\n",
    "        if not chunk:\n",
    "            break\n",
    "        yield chunk"
   ]
  },
  {
   "cell_type": "markdown",
   "metadata": {},
   "source": [
    "Main function"
   ]
  },
  {
   "cell_type": "code",
   "execution_count": null,
   "metadata": {},
   "outputs": [],
   "source": [
    "def main():        \n",
    "    # List all files\n",
    "    extensions = set()\n",
    "    all_files = get_paths(DATA_PATH, ['tiff','tif','gpkg','shp'])\n",
    "    for file in all_files:\n",
    "        pathname, exten = os.path.splitext(file) \n",
    "        extensions.add(exten)\n",
    "    for exts in extensions:\n",
    "        exts=exts.split('.')[1]\n",
    "        print(exts)\n",
    "        make_folder(DST_PATH, exts)\n",
    "        \n",
    "    \n",
    "    # Check available resources\n",
    "    import psutil\n",
    "    avram=psutil.virtual_memory().total >> 3\n",
    "    if avram > 31 and len(all_files) <5000:\n",
    "        JOBS=psutil.cpu_count(logical=True)\n",
    "    elif avram > 31 and len(all_files)>5000:\n",
    "        JOBS=psutil.cpu_count(logical=True)\n",
    "    elif avram <=31 and len(all_files)<5000:\n",
    "        JOBS=psutil.cpu_count(logical=True)\n",
    "    elif avram <= 31 and len(all_files) > 5000:\n",
    "        JOBS=psutil.cpu_count(logical=False)\n",
    "    \n",
    "    # Create chunks for parallel processing\n",
    "    filerange = len(all_files)\n",
    "    chunksize = round(filerange/JOBS)\n",
    "    if chunksize <1:\n",
    "        chunksize=1\n",
    "        JOBS = filerange\n",
    "    chunks = []\n",
    "    for c in chunk_creator(all_files, JOBS):\n",
    "        chunks.append(c)\n",
    "               \n",
    "   \n",
    "    # Parallel processing\n",
    "    with tqdm(total=len(all_files),\n",
    "             desc = 'Generating files',\n",
    "             unit='File') as pbar:\n",
    "        \n",
    "        for i in range(len(chunks)):\n",
    "            files = chunks[i]    \n",
    "            # print(files)\n",
    "            parallel_converter(files, OUT_CRS, JOBS)\n",
    "            \n",
    "           \n",
    "            pbar.update(JOBS)"
   ]
  },
  {
   "cell_type": "code",
   "execution_count": null,
   "metadata": {},
   "outputs": [],
   "source": [
    "\n",
    "if __name__ == \"__main__\":\n",
    "\n",
    "    \n",
    "    ## PATHS\n",
    "    \n",
    "    WORK_PATH = input(str('Path of the output folder '))           \n",
    "    DATA_PATH = input(str('Path to data files folder:'))\n",
    "    orig_dir = os.path.basename(DATA_PATH)\n",
    "    DST_PATH = WORK_PATH+'/'+orig_dir    \n",
    "    make_folder(WORK_PATH, orig_dir)  \n",
    "    OUT_CRS = '+proj=utm +zone=33 +datum=WGS84 +units=m +no_defs'\n",
    "    #OUT_CRS = input(str('Output crs string'))\n",
    "    \n",
    "    main()   "
   ]
  }
 ],
 "metadata": {
  "kernelspec": {
   "display_name": "Python 3",
   "language": "python",
   "name": "python3"
  },
  "language_info": {
   "codemirror_mode": {
    "name": "ipython",
    "version": 3
   },
   "file_extension": ".py",
   "mimetype": "text/x-python",
   "name": "python",
   "nbconvert_exporter": "python",
   "pygments_lexer": "ipython3",
   "version": "3.8.5"
  }
 },
 "nbformat": 4,
 "nbformat_minor": 4
}
